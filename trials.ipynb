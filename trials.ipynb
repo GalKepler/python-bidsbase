{
 "cells": [
  {
   "cell_type": "code",
   "execution_count": 1,
   "metadata": {},
   "outputs": [
    {
     "ename": "TypeError",
     "evalue": "expected string or bytes-like object",
     "output_type": "error",
     "traceback": [
      "\u001b[0;31m---------------------------------------------------------------------------\u001b[0m",
      "\u001b[0;31mTypeError\u001b[0m                                 Traceback (most recent call last)",
      "Cell \u001b[0;32mIn[1], line 3\u001b[0m\n\u001b[1;32m      1\u001b[0m \u001b[39mfrom\u001b[39;00m \u001b[39mbidsbase\u001b[39;00m\u001b[39m.\u001b[39;00m\u001b[39mmanager\u001b[39;00m\u001b[39m.\u001b[39;00m\u001b[39mmanager\u001b[39;00m \u001b[39mimport\u001b[39;00m Manager\n\u001b[1;32m      2\u001b[0m base_path \u001b[39m=\u001b[39m \u001b[39m\"\u001b[39m\u001b[39m/media/groot/Yalla/ConnectomePlasticity/MRI/rawdata\u001b[39m\u001b[39m\"\u001b[39m\n\u001b[0;32m----> 3\u001b[0m manager \u001b[39m=\u001b[39m Manager(base_path)\n",
      "File \u001b[0;32m~/Projects/python-bidsbase/src/bidsbase/manager/manager.py:12\u001b[0m, in \u001b[0;36mManager.__init__\u001b[0;34m(self, bids_dir, validate)\u001b[0m\n\u001b[1;32m     10\u001b[0m \u001b[39mself\u001b[39m\u001b[39m.\u001b[39m_copy_to \u001b[39m=\u001b[39m \u001b[39mNone\u001b[39;00m\n\u001b[1;32m     11\u001b[0m \u001b[39mif\u001b[39;00m validate:\n\u001b[0;32m---> 12\u001b[0m     \u001b[39mself\u001b[39;49m\u001b[39m.\u001b[39;49mvalidate()\n",
      "File \u001b[0;32m~/Projects/python-bidsbase/src/bidsbase/manager/manager.py:24\u001b[0m, in \u001b[0;36mManager.validate\u001b[0;34m(self)\u001b[0m\n\u001b[1;32m     15\u001b[0m \u001b[39m\u001b[39m\u001b[39m\"\"\"\u001b[39;00m\n\u001b[1;32m     16\u001b[0m \u001b[39mValidate the BIDS directory\u001b[39;00m\n\u001b[1;32m     17\u001b[0m \n\u001b[0;32m   (...)\u001b[0m\n\u001b[1;32m     21\u001b[0m \u001b[39m    If the BIDS directory is not valid\u001b[39;00m\n\u001b[1;32m     22\u001b[0m \u001b[39m\"\"\"\u001b[39;00m\n\u001b[1;32m     23\u001b[0m validator \u001b[39m=\u001b[39m BIDSValidator()\n\u001b[0;32m---> 24\u001b[0m \u001b[39mif\u001b[39;00m \u001b[39mnot\u001b[39;00m validator\u001b[39m.\u001b[39;49mis_bids(\u001b[39mself\u001b[39;49m\u001b[39m.\u001b[39;49mbids_dir):\n\u001b[1;32m     25\u001b[0m     \u001b[39mraise\u001b[39;00m \u001b[39mValueError\u001b[39;00m(\u001b[39mf\u001b[39m\u001b[39m'\u001b[39m\u001b[39m{\u001b[39;00m\u001b[39mself\u001b[39m\u001b[39m.\u001b[39mbids_dir\u001b[39m}\u001b[39;00m\u001b[39m is not a valid BIDS directory\u001b[39m\u001b[39m'\u001b[39m)\n",
      "File \u001b[0;32m~/Projects/python-bidsbase/venv/lib/python3.10/site-packages/bids_validator/bids_validator.py:68\u001b[0m, in \u001b[0;36mBIDSValidator.is_bids\u001b[0;34m(self, path)\u001b[0m\n\u001b[1;32m     31\u001b[0m \u001b[39m\u001b[39m\u001b[39m\"\"\"Check if file path adheres to BIDS.\u001b[39;00m\n\u001b[1;32m     32\u001b[0m \n\u001b[1;32m     33\u001b[0m \u001b[39mMain method of the validator. uses other class methods for checking\u001b[39;00m\n\u001b[0;32m   (...)\u001b[0m\n\u001b[1;32m     64\u001b[0m \n\u001b[1;32m     65\u001b[0m \u001b[39m\"\"\"\u001b[39;00m\n\u001b[1;32m     66\u001b[0m conditions \u001b[39m=\u001b[39m []\n\u001b[0;32m---> 68\u001b[0m conditions\u001b[39m.\u001b[39mappend(\u001b[39mself\u001b[39;49m\u001b[39m.\u001b[39;49mis_top_level(path))\n\u001b[1;32m     69\u001b[0m conditions\u001b[39m.\u001b[39mappend(\u001b[39mself\u001b[39m\u001b[39m.\u001b[39mis_associated_data(path))\n\u001b[1;32m     70\u001b[0m conditions\u001b[39m.\u001b[39mappend(\u001b[39mself\u001b[39m\u001b[39m.\u001b[39mis_session_level(path))\n",
      "File \u001b[0;32m~/Projects/python-bidsbase/venv/lib/python3.10/site-packages/bids_validator/bids_validator.py:82\u001b[0m, in \u001b[0;36mBIDSValidator.is_top_level\u001b[0;34m(self, path)\u001b[0m\n\u001b[1;32m     78\u001b[0m \u001b[39m\u001b[39m\u001b[39m\"\"\"Check if the file has appropriate name for a top-level file.\"\"\"\u001b[39;00m\n\u001b[1;32m     79\u001b[0m regexps \u001b[39m=\u001b[39m \u001b[39mself\u001b[39m\u001b[39m.\u001b[39mget_regular_expressions(\u001b[39mself\u001b[39m\u001b[39m.\u001b[39mdir_rules \u001b[39m+\u001b[39m\n\u001b[1;32m     80\u001b[0m                                        \u001b[39m'\u001b[39m\u001b[39mtop_level_rules.json\u001b[39m\u001b[39m'\u001b[39m)\n\u001b[0;32m---> 82\u001b[0m conditions \u001b[39m=\u001b[39m [\u001b[39mFalse\u001b[39;00m \u001b[39mif\u001b[39;00m re\u001b[39m.\u001b[39mcompile(x)\u001b[39m.\u001b[39msearch(path) \u001b[39mis\u001b[39;00m \u001b[39mNone\u001b[39;00m \u001b[39melse\u001b[39;00m \u001b[39mTrue\u001b[39;00m \u001b[39mfor\u001b[39;00m\n\u001b[1;32m     83\u001b[0m               x \u001b[39min\u001b[39;00m regexps]\n\u001b[1;32m     85\u001b[0m \u001b[39mreturn\u001b[39;00m (\u001b[39many\u001b[39m(conditions))\n",
      "File \u001b[0;32m~/Projects/python-bidsbase/venv/lib/python3.10/site-packages/bids_validator/bids_validator.py:82\u001b[0m, in \u001b[0;36m<listcomp>\u001b[0;34m(.0)\u001b[0m\n\u001b[1;32m     78\u001b[0m \u001b[39m\u001b[39m\u001b[39m\"\"\"Check if the file has appropriate name for a top-level file.\"\"\"\u001b[39;00m\n\u001b[1;32m     79\u001b[0m regexps \u001b[39m=\u001b[39m \u001b[39mself\u001b[39m\u001b[39m.\u001b[39mget_regular_expressions(\u001b[39mself\u001b[39m\u001b[39m.\u001b[39mdir_rules \u001b[39m+\u001b[39m\n\u001b[1;32m     80\u001b[0m                                        \u001b[39m'\u001b[39m\u001b[39mtop_level_rules.json\u001b[39m\u001b[39m'\u001b[39m)\n\u001b[0;32m---> 82\u001b[0m conditions \u001b[39m=\u001b[39m [\u001b[39mFalse\u001b[39;00m \u001b[39mif\u001b[39;00m re\u001b[39m.\u001b[39;49mcompile(x)\u001b[39m.\u001b[39;49msearch(path) \u001b[39mis\u001b[39;00m \u001b[39mNone\u001b[39;00m \u001b[39melse\u001b[39;00m \u001b[39mTrue\u001b[39;00m \u001b[39mfor\u001b[39;00m\n\u001b[1;32m     83\u001b[0m               x \u001b[39min\u001b[39;00m regexps]\n\u001b[1;32m     85\u001b[0m \u001b[39mreturn\u001b[39;00m (\u001b[39many\u001b[39m(conditions))\n",
      "\u001b[0;31mTypeError\u001b[0m: expected string or bytes-like object"
     ]
    }
   ],
   "source": [
    "from bidsbase.manager.manager import Manager\n",
    "base_path = \"/media/groot/Minerva/tests/rawdata/\"\n",
    "manager = Manager(base_path)"
   ]
  },
  {
   "cell_type": "code",
   "execution_count": 2,
   "metadata": {},
   "outputs": [
    {
     "data": {
      "text/plain": [
       "False"
      ]
     },
     "execution_count": 2,
     "metadata": {},
     "output_type": "execute_result"
    }
   ],
   "source": [
    "manager.validate()"
   ]
  }
 ],
 "metadata": {
  "kernelspec": {
   "display_name": "venv",
   "language": "python",
   "name": "python3"
  },
  "language_info": {
   "codemirror_mode": {
    "name": "ipython",
    "version": 3
   },
   "file_extension": ".py",
   "mimetype": "text/x-python",
   "name": "python",
   "nbconvert_exporter": "python",
   "pygments_lexer": "ipython3",
   "version": "3.10.2"
  },
  "orig_nbformat": 4
 },
 "nbformat": 4,
 "nbformat_minor": 2
}
